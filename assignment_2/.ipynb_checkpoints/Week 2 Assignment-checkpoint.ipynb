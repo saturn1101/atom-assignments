{
 "cells": [
  {
   "cell_type": "code",
   "execution_count": 74,
   "id": "b9dbb418",
   "metadata": {},
   "outputs": [
    {
     "name": "stdout",
     "output_type": "stream",
     "text": [
      "{'SENDER_EMAIL': 'conanloveran1234@gmail.com', 'PWD_EMAIL': 'zglxivxdfzchkwbd', 'WEATHER_API_KEY': 'f14dff50ca6f25562521c88187f3f298'}\n"
     ]
    }
   ],
   "source": [
    "# TO-DO 1.1\n",
    "\n",
    "import json\n",
    "with open('env_variable.json', 'r') as j:\n",
    "    json_data = json.load(j)\n",
    "    print(json_data)"
   ]
  },
  {
   "cell_type": "code",
   "execution_count": 64,
   "id": "1a12e93a",
   "metadata": {},
   "outputs": [
    {
     "name": "stdout",
     "output_type": "stream",
     "text": [
      "conanloveran1234@gmail.com\n"
     ]
    }
   ],
   "source": [
    "# TO-DO 1.2\n",
    "\n",
    "print(json_data['SENDER_EMAIL'])"
   ]
  },
  {
   "cell_type": "code",
   "execution_count": 63,
   "id": "8aae9df8",
   "metadata": {},
   "outputs": [
    {
     "name": "stdout",
     "output_type": "stream",
     "text": [
      "DONE! Get Env. Variable\n"
     ]
    }
   ],
   "source": [
    "import os\n",
    "os.environ['SENDER_EMAIL'] = json_data['SENDER_EMAIL'] ## INPUT: Your Email\n",
    "os.environ['PWD_EMAIL'] = json_data['PWD_EMAIL'] ## INPUT: Your App Password\n",
    "os.environ['WEATHER_API_KEY'] = json_data['WEATHER_API_KEY'] ## INPUT: OpenWeather API Key\n",
    "print('DONE! Get Env. Variable')"
   ]
  },
  {
   "cell_type": "code",
   "execution_count": 75,
   "id": "890dce8c",
   "metadata": {},
   "outputs": [],
   "source": [
    "import email, smtplib, ssl # to automate email\n",
    "import email as mail\n",
    "from email import encoders\n",
    "from email.mime.base import MIMEBase\n",
    "from email.mime.multipart import MIMEMultipart\n",
    "from email.mime.text import MIMEText\n",
    "\n",
    "import requests, json # to pull API, and work with json\n",
    "import datetime as dt # to work with date, time\n",
    "from bs4 import BeautifulSoup # to work with web scrapping (HTML)\n",
    "import pandas as pd # to work with tables (DataFrames) data\n",
    "from IPython.core.display import HTML # to display HTML in the notebook"
   ]
  },
  {
   "cell_type": "code",
   "execution_count": 72,
   "id": "9f4ada54",
   "metadata": {},
   "outputs": [],
   "source": [
    "# TO-DO 2.1\n",
    "\n",
    "def send_email(receiver_email, subject, part1, part2, part3):\n",
    "    sender_email = os.environ['SENDER_EMAIL']\n",
    "    password = os.environ['PWD_EMAIL'] \n",
    "    \n",
    "    # (1) Create the email head (sender, receiver, and subject)\n",
    "    email = MIMEMultipart()\n",
    "    email[\"From\"] = sender_email\n",
    "    email[\"To\"] = receiver_email \n",
    "    email[\"Subject\"] = subject\n",
    "\n",
    "    # (2) Create & Combine body parts\n",
    "    html0 = \"\"\"\n",
    "    <html><br></html>\n",
    "    \"\"\"\n",
    "    \n",
    "    html1 = \"\"\"\n",
    "    <html>\n",
    "    <h2>Hello, here's the info:</h2>\n",
    "    </html>\n",
    "    \"\"\"\n",
    "    \n",
    "    part1 = MIMEText(part1, 'plain')\n",
    "    part2 = MIMEText(part2, 'plain')\n",
    "    part3 = MIMEText(part3, 'plain')\n",
    "    newLine = MIMEText(html0, 'html')\n",
    "    intro = MIMEText(html1, 'html')\n",
    "\n",
    "    email.attach(intro)\n",
    "    email.attach(part1)\n",
    "    email.attach(newLine)\n",
    "    email.attach(part2)\n",
    "    email.attach(newLine)\n",
    "    email.attach(part3)\n",
    "\n",
    "    # (3) Create SMTP session for sending the mail\n",
    "    session = smtplib.SMTP('smtp.gmail.com', 587) #use gmail with port\n",
    "    session.starttls() #enable security\n",
    "    session.login(sender_email, password) #login with mail_id and password\n",
    "    text = email.as_string()\n",
    "    session.sendmail(sender_email, receiver_email, text)\n",
    "    session.quit()\n",
    "\n",
    "    print('DONE! Mail Sent'.format(sender_email, receiver_email))"
   ]
  },
  {
   "cell_type": "code",
   "execution_count": null,
   "id": "a52a551d",
   "metadata": {},
   "outputs": [],
   "source": [
    "# TO-DO 2.2\n",
    "\n",
    "email_list = [os.environ['SENDER_EMAIL']]\n",
    "subject = input(\"Email subject: \")\n",
    "part1 = input(\"Part 1: \")\n",
    "part2 = input(\"Part 2: \")\n",
    "part3 = input(\"Part 3: \")\n",
    "for i in email_list:\n",
    "    send_email(i, subject, part1, part2, part3)"
   ]
  },
  {
   "cell_type": "code",
   "execution_count": null,
   "id": "688dd934",
   "metadata": {},
   "outputs": [],
   "source": [
    "# TO-DO 3.1\n",
    "\n",
    "# base URL\n",
    "BASE_URL = \"https://api.openweathermap.org/data/2.5/weather?\"\n",
    "# City Name \n",
    "CITY = \"London\"\n",
    "# API key \n",
    "API_KEY = os.environ['WEATHER_API_KEY']\n",
    "# upadting the URL\n",
    "URL = BASE_URL + \"q=\" + CITY + \"&appid=\" + API_KEY\n",
    "# HTTP request\n",
    "response = requests.get(URL)\n",
    "# checking the status code of the request\n",
    "if response.status_code == 200:\n",
    "    # getting data in the json format\n",
    "    data = response.json()\n",
    "    \n",
    "    # getting the weather block\n",
    "    weather = data['weather']\n",
    "    # getting main in weather block\n",
    "    main = weather[0]['main']\n",
    "    \n",
    "    # getting the coordinates\n",
    "    lat = data['coord']['lat']\n",
    "    lon = data['coord']['lon']\n",
    "    \n",
    "    # weather report\n",
    "    f = open('weather.txt','w') ## write to text file\n",
    "    print(f\"{CITY:-^30}\", file=f)\n",
    "    print(f\"Weather_Main: {main}\", file=f)\n",
    "    print(f\"Coord_Lat: {lat}\", file=f)\n",
    "    print(f\"Coord_Lon: {lon}\", file=f)\n",
    "    f.close()\n",
    "    print(\"DONE! Output in weather.txt file\")\n",
    "else:\n",
    "    # showing the error message\n",
    "    print(\"Error in the HTTP request\")\n",
    "    print(response)"
   ]
  },
  {
   "cell_type": "code",
   "execution_count": null,
   "id": "554eab7a",
   "metadata": {},
   "outputs": [],
   "source": [
    "# TO-DO 3.2\n",
    "\n",
    "def get_weather_data(city):\n",
    "    # base URL\n",
    "    BASE_URL = \"https://api.openweathermap.org/data/2.5/weather?\"\n",
    "    # City Name \n",
    "    CITY = city\n",
    "    # API key \n",
    "    API_KEY = os.environ['WEATHER_API_KEY']\n",
    "    # upadting the URL\n",
    "    URL = BASE_URL + \"q=\" + CITY + \"&appid=\" + API_KEY\n",
    "    # HTTP request\n",
    "    response = requests.get(URL)\n",
    "    # checking the status code of the request\n",
    "    if response.status_code == 200:\n",
    "        # getting data in the json format\n",
    "        data = response.json()\n",
    "        # getting the main dict block\n",
    "        main = data['main']\n",
    "        # getting temperature\n",
    "        temperature = main['temp']\n",
    "        # getting the humidity\n",
    "        humidity = main['humidity']\n",
    "        # getting the pressure\n",
    "        pressure = main['pressure']\n",
    "        # weather report\n",
    "        report = data['weather']\n",
    "        f = open('weather.txt','w') ## write to text file\n",
    "        print(f\"{CITY:-^30}\", file=f)\n",
    "        print(f\"Temperature: {temperature}\", file=f)\n",
    "        print(f\"Humidity: {humidity}\", file=f)\n",
    "        print(f\"Pressure: {pressure}\", file=f)\n",
    "        print(f\"Weather Report: {report[0]['description']}\", file=f)\n",
    "        f.close()\n",
    "        print(\"DONE! Output in weather.txt file\")\n",
    "    else:\n",
    "        # showing the error message\n",
    "        print(\"Error in the HTTP request\")\n",
    "        print(response)"
   ]
  },
  {
   "cell_type": "code",
   "execution_count": null,
   "id": "b7a63e2f",
   "metadata": {},
   "outputs": [],
   "source": [
    "# TO-DO 3.3\n",
    "\n",
    "get_weather_data('London')\n",
    "f = open('weather.txt', 'r')\n",
    "weather_content = f.read()\n",
    "\n",
    "send_email(os.environ['SENDER_EMAIL'],'Hello','Part 1','Part 2', weather_content)"
   ]
  },
  {
   "cell_type": "code",
   "execution_count": null,
   "id": "aee61d02",
   "metadata": {},
   "outputs": [],
   "source": []
  },
  {
   "cell_type": "code",
   "execution_count": null,
   "id": "dfc7b318",
   "metadata": {},
   "outputs": [],
   "source": []
  },
  {
   "cell_type": "code",
   "execution_count": null,
   "id": "dbedb5f8",
   "metadata": {},
   "outputs": [],
   "source": []
  },
  {
   "cell_type": "code",
   "execution_count": null,
   "id": "07162bb2",
   "metadata": {},
   "outputs": [],
   "source": []
  },
  {
   "cell_type": "code",
   "execution_count": null,
   "id": "2dacf770",
   "metadata": {},
   "outputs": [],
   "source": []
  }
 ],
 "metadata": {
  "kernelspec": {
   "display_name": "Python 3",
   "language": "python",
   "name": "python3"
  }
 },
 "nbformat": 4,
 "nbformat_minor": 5
}
