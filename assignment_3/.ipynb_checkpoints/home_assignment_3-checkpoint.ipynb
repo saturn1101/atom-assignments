{
 "cells": [
  {
   "cell_type": "markdown",
   "metadata": {
    "id": "4w2e0D-hni2p"
   },
   "source": [
    "# HOME ASSIGNMENT #3: SLACK API - TO GSHEET\n",
    "**Mục đích của bài Assignment**\n",
    "- Lấy thông tin các Users từ Slack của DataCracy (BTC, Mentors và Learners)\n",
    "- `**[Optional 1]**` Đưa danh sách Users lên Google Spreadsheet, để theo dõi \n",
    "- `**[Optional 2]**` Lấy thông tin Assignment Submission và số Reviews trên `#atom-assignmentnt2` và cập nhật lên Spreadsheet, để theo dõi các học viên đã nộp bài và được review\n",
    "\n",
    "**Các kiến thức sẽ áp dụng**\n",
    "- Ôn lại và luyện tập thêm về concept API (cụ thể sử dụng API Slack)\n",
    "- Trích xuất thông tin từ JSON\n",
    "- Dùng module gspread để đưa thông tin lên Google Spreadsheet"
   ]
  },
  {
   "cell_type": "markdown",
   "metadata": {
    "id": "yitICPVzpRI2"
   },
   "source": [
    "## 0. Load Modules"
   ]
  },
  {
   "cell_type": "code",
   "execution_count": 47,
   "metadata": {
    "id": "G_HCucZ5rSHq"
   },
   "outputs": [],
   "source": [
    "import requests #-> Để gọi API\n",
    "import re #-> Để xử lý data dạng string\n",
    "from datetime import datetime as dt #-> Để xử lý data dạng datetime\n",
    "import gspread #-> Để update data lên Google Spreadsheet\n",
    "from gspread_dataframe import set_with_dataframe #-> Để update data lên Google Spreadsheet\n",
    "import pandas as pd #-> Để update data dạng bản\n",
    "import json \n",
    "from oauth2client.service_account import ServiceAccountCredentials #-> Để nhập Google Spreadsheet Credentials\n",
    "import os"
   ]
  },
  {
   "cell_type": "markdown",
   "metadata": {
    "id": "z7HOk6uMp2K2"
   },
   "source": [
    "## 1. Slack API: User List\n",
    "* Bạn có thể đọc lại về concept API [HERE](https://anhdang.gitbook.io/datacracy/atom/3-data-tools-2/3.2-spotify-api-and-postman)\n",
    "* Assignment này sẽ dùng Slack API để lấy thông tin về Learners và theo dõi các bài tập đã nộp và được review (sau đó cập nhật lên Google Spreadsheet)\n",
    "* ===> **NOTICE**: Slack API authorize bằng Bearer Token `xoxb-...-...-...` (Sẽ được cung cấp riêng)\n",
    "* Update file `env_variable.json` như trong [Assignment#2](../assignment_2/home_assignment_2.ipynb)\n",
    "* ==> Nếu bạn dùng Google Colab, upload file vào Colab ([Hướng dẫn](https://colab.research.google.com/notebooks/io.ipynb))"
   ]
  },
  {
   "cell_type": "code",
   "execution_count": 48,
   "metadata": {
    "colab": {
     "base_uri": "https://localhost:8080/"
    },
    "id": "YoSEHfdTwYRj",
    "outputId": "02b1f5e1-6f9a-4c2b-a481-33284324d1cc"
   },
   "outputs": [
    {
     "name": "stdout",
     "output_type": "stream",
     "text": [
      "README.md\r\n",
      "datacracy-assignment-3-dc87f378ea2a.json\r\n",
      "env_variable.json\r\n",
      "home_assignment_3.ipynb\r\n"
     ]
    }
   ],
   "source": [
    "!ls"
   ]
  },
  {
   "cell_type": "code",
   "execution_count": 102,
   "metadata": {
    "id": "tFPqT2pirhy4"
   },
   "outputs": [],
   "source": [
    "with open('env_variable.json', 'r') as j:\n",
    "    json_data = json.load(j)\n",
    "    #print(json_data)"
   ]
  },
  {
   "cell_type": "code",
   "execution_count": 103,
   "metadata": {
    "id": "wAzmaVTLrpvH"
   },
   "outputs": [],
   "source": [
    "## Load SLACK_BEARER_TOKEN\n",
    "os.environ['SLACK_BEARER_TOKEN'] = json_data['SLACK_BEARER_TOKEN']"
   ]
  },
  {
   "cell_type": "code",
   "execution_count": 104,
   "metadata": {
    "id": "K_TrDTx138jD"
   },
   "outputs": [],
   "source": [
    "## Gọi API từ Endpoints (Input - Token được đưa vào Headers)\n",
    "## Challenge: Thử gọi API này bằng Postman\n",
    "endpoint = \"https://slack.com/api/users.list\"\n",
    "headers = {\"Authorization\": \"Bearer {}\".format(os.environ['SLACK_BEARER_TOKEN'])}\n",
    "response_json = requests.post(endpoint, headers=headers).json() \n",
    "user_dat = response_json['members']"
   ]
  },
  {
   "cell_type": "markdown",
   "metadata": {
    "id": "rqEti4Y50tdB"
   },
   "source": [
    "### TODO #1\n",
    "Hoàn tất đoạn code sau"
   ]
  },
  {
   "cell_type": "code",
   "execution_count": 105,
   "metadata": {
    "id": "P0qbkdhtD9ww"
   },
   "outputs": [],
   "source": [
    "## Loop qua JSON file và extract các thông tin quan trọng (id, name, display_name, real_name_normalized, title, phone, is_bot)\n",
    "## Hint: Bạn có thể dùng Postman hoặc in user_dat JSON để xem cấu trúc (schema), dùng Ctrl+F để tìm các keys (id, name, display_name, real_name_normalized, title, phone, is_bot)\n",
    "user_dict = {'user_id':[], 'name':[], 'display_name':[],'real_name':[],'title':[],'phone':[],'is_bot':[]}\n",
    "for i in range(len(user_dat)):\n",
    "    user_dict['user_id'].append(user_dat[i]['id'])\n",
    "    user_dict['name'].append(user_dat[i]['name'])\n",
    "    user_dict['display_name'].append(user_dat[i]['profile']['display_name'])\n",
    "    user_dict['real_name'].append(user_dat[i]['profile']['real_name_normalized'])\n",
    "    user_dict['title'].append(user_dat[i]['profile']['title'])\n",
    "    user_dict['phone'].append(user_dat[i]['profile']['phone'])\n",
    "    user_dict['is_bot'].append(user_dat[i]['is_bot'])"
   ]
  },
  {
   "cell_type": "code",
   "execution_count": 106,
   "metadata": {
    "colab": {
     "base_uri": "https://localhost:8080/",
     "height": 204
    },
    "id": "yGNvsCauF8_w",
    "outputId": "dfc4c6f7-845c-4202-8fc7-43aeb328554a"
   },
   "outputs": [
    {
     "data": {
      "text/html": [
       "<div>\n",
       "<style scoped>\n",
       "    .dataframe tbody tr th:only-of-type {\n",
       "        vertical-align: middle;\n",
       "    }\n",
       "\n",
       "    .dataframe tbody tr th {\n",
       "        vertical-align: top;\n",
       "    }\n",
       "\n",
       "    .dataframe thead th {\n",
       "        text-align: right;\n",
       "    }\n",
       "</style>\n",
       "<table border=\"1\" class=\"dataframe\">\n",
       "  <thead>\n",
       "    <tr style=\"text-align: right;\">\n",
       "      <th></th>\n",
       "      <th>user_id</th>\n",
       "      <th>name</th>\n",
       "      <th>display_name</th>\n",
       "      <th>real_name</th>\n",
       "      <th>title</th>\n",
       "      <th>phone</th>\n",
       "      <th>is_bot</th>\n",
       "    </tr>\n",
       "  </thead>\n",
       "  <tbody>\n",
       "    <tr>\n",
       "      <th>0</th>\n",
       "      <td>USLACKBOT</td>\n",
       "      <td>slackbot</td>\n",
       "      <td>Slackbot</td>\n",
       "      <td>Slackbot</td>\n",
       "      <td></td>\n",
       "      <td></td>\n",
       "      <td>False</td>\n",
       "    </tr>\n",
       "    <tr>\n",
       "      <th>1</th>\n",
       "      <td>U01AT4T75JB</td>\n",
       "      <td>loclexuan26392</td>\n",
       "      <td>Loc Le Xuan</td>\n",
       "      <td>Loc Le Xuan</td>\n",
       "      <td></td>\n",
       "      <td></td>\n",
       "      <td>False</td>\n",
       "    </tr>\n",
       "    <tr>\n",
       "      <th>2</th>\n",
       "      <td>U01AVDY7JET</td>\n",
       "      <td>locle.ds</td>\n",
       "      <td>Loc Le Xuan</td>\n",
       "      <td>Loc Le Xuan</td>\n",
       "      <td></td>\n",
       "      <td></td>\n",
       "      <td>False</td>\n",
       "    </tr>\n",
       "    <tr>\n",
       "      <th>3</th>\n",
       "      <td>U01BE2PR6LU</td>\n",
       "      <td>maianhdang.ftu</td>\n",
       "      <td>MAD</td>\n",
       "      <td>Dặng Huỳnh Mai Anh</td>\n",
       "      <td>Technical Contents</td>\n",
       "      <td></td>\n",
       "      <td>False</td>\n",
       "    </tr>\n",
       "    <tr>\n",
       "      <th>4</th>\n",
       "      <td>U01C48T7S1J</td>\n",
       "      <td>huyenhoang.design</td>\n",
       "      <td>Thanh Huyen Hoang</td>\n",
       "      <td>Thanh Huyen Hoang</td>\n",
       "      <td></td>\n",
       "      <td></td>\n",
       "      <td>False</td>\n",
       "    </tr>\n",
       "  </tbody>\n",
       "</table>\n",
       "</div>"
      ],
      "text/plain": [
       "       user_id               name       display_name           real_name  \\\n",
       "0    USLACKBOT           slackbot           Slackbot            Slackbot   \n",
       "1  U01AT4T75JB     loclexuan26392        Loc Le Xuan         Loc Le Xuan   \n",
       "2  U01AVDY7JET           locle.ds        Loc Le Xuan         Loc Le Xuan   \n",
       "3  U01BE2PR6LU     maianhdang.ftu                MAD  Dặng Huỳnh Mai Anh   \n",
       "4  U01C48T7S1J  huyenhoang.design  Thanh Huyen Hoang   Thanh Huyen Hoang   \n",
       "\n",
       "                title phone  is_bot  \n",
       "0                             False  \n",
       "1                             False  \n",
       "2                             False  \n",
       "3  Technical Contents         False  \n",
       "4                             False  "
      ]
     },
     "execution_count": 106,
     "metadata": {},
     "output_type": "execute_result"
    }
   ],
   "source": [
    "user_df = pd.DataFrame(user_dict) ## Dùng pandas để convert dictionaries thành bảng\n",
    "user_df.head(5) ## Chỉ in 5 dòng đầu (chủ yếu để xem cấu trúc)"
   ]
  },
  {
   "cell_type": "code",
   "execution_count": 107,
   "metadata": {
    "colab": {
     "base_uri": "https://localhost:8080/",
     "height": 80
    },
    "id": "rjFcaWdt2ABM",
    "outputId": "1a114985-7608-4421-aa51-1e406cc427eb"
   },
   "outputs": [
    {
     "data": {
      "text/html": [
       "<div>\n",
       "<style scoped>\n",
       "    .dataframe tbody tr th:only-of-type {\n",
       "        vertical-align: middle;\n",
       "    }\n",
       "\n",
       "    .dataframe tbody tr th {\n",
       "        vertical-align: top;\n",
       "    }\n",
       "\n",
       "    .dataframe thead th {\n",
       "        text-align: right;\n",
       "    }\n",
       "</style>\n",
       "<table border=\"1\" class=\"dataframe\">\n",
       "  <thead>\n",
       "    <tr style=\"text-align: right;\">\n",
       "      <th></th>\n",
       "      <th>user_id</th>\n",
       "      <th>name</th>\n",
       "      <th>display_name</th>\n",
       "      <th>real_name</th>\n",
       "      <th>title</th>\n",
       "      <th>phone</th>\n",
       "      <th>is_bot</th>\n",
       "    </tr>\n",
       "  </thead>\n",
       "  <tbody>\n",
       "    <tr>\n",
       "      <th>3</th>\n",
       "      <td>U01BE2PR6LU</td>\n",
       "      <td>maianhdang.ftu</td>\n",
       "      <td>MAD</td>\n",
       "      <td>Dặng Huỳnh Mai Anh</td>\n",
       "      <td>Technical Contents</td>\n",
       "      <td></td>\n",
       "      <td>False</td>\n",
       "    </tr>\n",
       "  </tbody>\n",
       "</table>\n",
       "</div>"
      ],
      "text/plain": [
       "       user_id            name display_name           real_name  \\\n",
       "3  U01BE2PR6LU  maianhdang.ftu          MAD  Dặng Huỳnh Mai Anh   \n",
       "\n",
       "                title phone  is_bot  \n",
       "3  Technical Contents         False  "
      ]
     },
     "execution_count": 107,
     "metadata": {},
     "output_type": "execute_result"
    }
   ],
   "source": [
    "user_df[user_df.display_name == 'MAD'] ## Lọc thông tin của MAD, trên DataFrame (bạn có thể Google thêm)"
   ]
  },
  {
   "cell_type": "markdown",
   "metadata": {
    "id": "1TZrcaWZyE07"
   },
   "source": [
    "-------------- HẾT PHẦN BẮT BUỘC ---------------------"
   ]
  },
  {
   "cell_type": "markdown",
   "metadata": {
    "id": "P3_b7zw-1A6s"
   },
   "source": [
    "## Option 1: Update data => Google SpreadSheet"
   ]
  },
  {
   "cell_type": "markdown",
   "metadata": {
    "id": "UPuXhw3WtmWw"
   },
   "source": [
    "### TODO#2\n",
    "Tạo service account (output là file json), file này để cho phép ta access vào Google Spreadsheet:\n",
    "\n",
    "1. Làm theo hướng dẫn: [Google Create a Service Account](https://support.google.com/a/answer/7378726?hl=en)\n",
    "![google_service_account](../img/google_service_account.png)\n",
    "2. Lưu file JSON (chứa credential về máy)\n",
    "![gservice_acc_json](../img/gservice_acc_json.png)\n",
    "3. Nhớ Enable [Google Drive API](https://console.cloud.google.com/marketplace/product/google/drive.googleapis.com?q=search&referrer=search&project=quickstart-313303) (Nếu bạn chạy code báo lỗi chưa enable API thì vào link trong phần lỗi để Enable, sau khi kích hoạt có thể cần vài phút để chạy được)\n",
    "![enable_api](../img/enable_api.png)\n",
    "* ==> Upload file Gsheet Credential JSON nếu bạn dùng Colab \n",
    "* ==> Nếu bạn để key trong repo git, **NHỚ** để file json vào `.gitignore` để không bị leaked key)\n"
   ]
  },
  {
   "cell_type": "code",
   "execution_count": 55,
   "metadata": {
    "colab": {
     "base_uri": "https://localhost:8080/"
    },
    "id": "XhrcVjXWwldS",
    "outputId": "63133330-f68b-4adf-96a1-6d2c0e08dc70"
   },
   "outputs": [
    {
     "name": "stdout",
     "output_type": "stream",
     "text": [
      "README.md\r\n",
      "datacracy-assignment-3-dc87f378ea2a.json\r\n",
      "env_variable.json\r\n",
      "home_assignment_3.ipynb\r\n"
     ]
    }
   ],
   "source": [
    "!ls"
   ]
  },
  {
   "cell_type": "code",
   "execution_count": 108,
   "metadata": {
    "colab": {
     "base_uri": "https://localhost:8080/"
    },
    "id": "4NEQFu-DNvFC",
    "outputId": "a855fe34-b409-4152-a218-67bfa240396f"
   },
   "outputs": [
    {
     "name": "stdout",
     "output_type": "stream",
     "text": [
      "DONE!\n"
     ]
    }
   ],
   "source": [
    "## Authorize bằng JSON\n",
    "scope = ['https://spreadsheets.google.com/feeds',\n",
    "         'https://www.googleapis.com/auth/drive']\n",
    "credentials = ServiceAccountCredentials.from_json_keyfile_name(\n",
    "    'datacracy-assignment-3-dc87f378ea2a.json', scope)\n",
    "gc = gspread.authorize(credentials)\n",
    "print(\"DONE!\")"
   ]
  },
  {
   "cell_type": "markdown",
   "metadata": {
    "id": "HELBp0Sdxhzc"
   },
   "source": [
    "**Tạo Spreadsheet**\n",
    "\n",
    "1. Tạo Spreadsheet trên google\n",
    "2. Invite account trong `client_email` (file JSON Gsheet Credential bên trên) vào Spreadsheet (quyền Editor)\n",
    "![enable_api](../img/enable_api.png)\n",
    "3. Lấy `SPREADSHEET_KEY` (nằm trong chính URL của Spreadhstee): `https://docs.google.com/spreadsheets/d/<SPREADSHEET_KEY>/edit#gid=0`\n",
    "\n",
    "![add_gsheet](../img/add_gsheet.png)"
   ]
  },
  {
   "cell_type": "code",
   "execution_count": 109,
   "metadata": {
    "id": "XlZ8JNB3bZbw"
   },
   "outputs": [],
   "source": [
    "# ACCESS GOOGLE SHEET\n",
    "sheet_index_no = 0\n",
    "spreadsheet_key = '1xcCPh5YOct6-cMZwTdV9KkMQitqSwe6l2P2w3ZSlR0M' # input SPREADSHEET_KEY HERE\n",
    "sh = gc.open_by_key(spreadsheet_key)\n",
    "worksheet = sh.get_worksheet(0) #-> 0 - first sheet, 1 - second sheet etc. \n",
    "\n",
    "# APPEND DATA TO SHEET\n",
    "set_with_dataframe(worksheet, user_df) #-> Upload user_df vào Sheet đầu tiên trong Spreadsheet\n",
    "\n",
    "# DONE: Bây giờ bạn có thể mở spreadsheet và kiểm tra nội dung đã update chứ"
   ]
  },
  {
   "cell_type": "markdown",
   "metadata": {},
   "source": [
    "![slack_user_gsheet](../img/slack_user_gsheet.png)"
   ]
  },
  {
   "cell_type": "markdown",
   "metadata": {
    "id": "5I15m3ilyA3Y"
   },
   "source": [
    "-------------- HẾT PHẦN OPTION 1 ---------------------"
   ]
  },
  {
   "cell_type": "markdown",
   "metadata": {
    "id": "9aRN9KSczkmr"
   },
   "source": [
    "## Option 2: Ai đã nộp bài?\n"
   ]
  },
  {
   "cell_type": "markdown",
   "metadata": {
    "id": "Pw81ioUz2N0v"
   },
   "source": [
    "### Slack API: Channel List"
   ]
  },
  {
   "cell_type": "code",
   "execution_count": 110,
   "metadata": {
    "id": "fcdaDaGdz60p"
   },
   "outputs": [],
   "source": [
    "## Gọi SLACK API để list tất cả các channel\n",
    "endpoint = \"https://slack.com/api/conversations.list\"\n",
    "headers = {\"Authorization\": \"Bearer {}\".format(os.environ['SLACK_BEARER_TOKEN'])}\n",
    "response = requests.post(endpoint, headers=headers).json()\n",
    "channel_ls = response['channels']"
   ]
  },
  {
   "cell_type": "code",
   "execution_count": 111,
   "metadata": {
    "colab": {
     "base_uri": "https://localhost:8080/"
    },
    "id": "47dUJAPi0Jg5",
    "outputId": "2762f1e8-ff65-4994-c3e5-1ab0f5dc9205"
   },
   "outputs": [
    {
     "data": {
      "text/plain": [
       "{'id': 'C01B4PVGLVB',\n",
       " 'name': 'general',\n",
       " 'is_channel': True,\n",
       " 'is_group': False,\n",
       " 'is_im': False,\n",
       " 'created': 1600856703,\n",
       " 'is_archived': False,\n",
       " 'is_general': True,\n",
       " 'unlinked': 0,\n",
       " 'name_normalized': 'general',\n",
       " 'is_shared': False,\n",
       " 'parent_conversation': None,\n",
       " 'creator': 'U01BE2PR6LU',\n",
       " 'is_ext_shared': False,\n",
       " 'is_org_shared': False,\n",
       " 'shared_team_ids': ['T01B7SGGMLJ'],\n",
       " 'pending_shared': [],\n",
       " 'pending_connected_team_ids': [],\n",
       " 'is_pending_ext_shared': False,\n",
       " 'is_member': False,\n",
       " 'is_private': False,\n",
       " 'is_mpim': False,\n",
       " 'topic': {'value': '', 'creator': '', 'last_set': 0},\n",
       " 'purpose': {'value': 'This is the one channel that will always include everyone. It’s a great spot for announcements and team-wide conversations.',\n",
       "  'creator': 'U01BE2PR6LU',\n",
       "  'last_set': 1600856703},\n",
       " 'previous_names': [],\n",
       " 'num_members': 64}"
      ]
     },
     "execution_count": 111,
     "metadata": {},
     "output_type": "execute_result"
    }
   ],
   "source": [
    "channel_ls[0] ## Thử extract record đầu tiên để xem schema  => name: general, id: C01B4PVGLVB"
   ]
  },
  {
   "cell_type": "markdown",
   "metadata": {
    "id": "CNFTcFC00l8g"
   },
   "source": [
    "### TODO#3 \n",
    "* Tìm id của channel #atom-assignment2"
   ]
  },
  {
   "cell_type": "code",
   "execution_count": 112,
   "metadata": {},
   "outputs": [
    {
     "name": "stdout",
     "output_type": "stream",
     "text": [
      "C021FSDN7LJ\n"
     ]
    }
   ],
   "source": [
    "# Find id of channel #atom-assignment2\n",
    "for index in range(len(channel_ls)):\n",
    "    if channel_ls[index]['name'] == 'atom-assignment2':\n",
    "        print(channel_ls[index]['id'])"
   ]
  },
  {
   "cell_type": "markdown",
   "metadata": {
    "id": "EnCvdYAn2R47"
   },
   "source": [
    "### Slack API: List messages trong 1 channel"
   ]
  },
  {
   "cell_type": "code",
   "execution_count": 113,
   "metadata": {
    "id": "1UsSESN8rtnk"
   },
   "outputs": [],
   "source": [
    "endpoint = \"https://slack.com/api/conversations.history\"\n",
    "data = {\"channel\": \"C01U6P7LZ8F\"} ## This is ID of assignment#1 channel\n",
    "headers = {\"Authorization\": \"Bearer {}\".format(os.environ['SLACK_BEARER_TOKEN'])}"
   ]
  },
  {
   "cell_type": "code",
   "execution_count": 114,
   "metadata": {
    "id": "i8eJw3LBr4lY"
   },
   "outputs": [],
   "source": [
    "response_json = requests.post(endpoint, data=data, headers=headers).json()\n",
    "msg_ls = response_json['messages']"
   ]
  },
  {
   "cell_type": "code",
   "execution_count": 139,
   "metadata": {
    "colab": {
     "base_uri": "https://localhost:8080/"
    },
    "id": "KkYO1KcBtZa9",
    "outputId": "7a76397b-202b-445e-aa26-f4b30cfc9a53"
   },
   "outputs": [
    {
     "data": {
      "text/plain": [
       "{'type': 'message',\n",
       " 'subtype': 'channel_topic',\n",
       " 'ts': '1621074450.005200',\n",
       " 'user': 'U01BE2PR6LU',\n",
       " 'text': '<@U01BE2PR6LU> set the channel topic: Assigment#2 Submissions + Reviews',\n",
       " 'topic': 'Assigment#2 Submissions + Reviews'}"
      ]
     },
     "execution_count": 139,
     "metadata": {},
     "output_type": "execute_result"
    }
   ],
   "source": [
    "msg_ls[21]"
   ]
  },
  {
   "cell_type": "code",
   "execution_count": 116,
   "metadata": {
    "id": "BsW8CXAXv-tC"
   },
   "outputs": [],
   "source": [
    "not_learners_id = ['U01BE2PR6LU']"
   ]
  },
  {
   "cell_type": "code",
   "execution_count": 117,
   "metadata": {
    "colab": {
     "base_uri": "https://localhost:8080/"
    },
    "id": "XOvJ5kGCsmAD",
    "outputId": "79567aaf-62bd-4091-deca-6e13c1c80e79"
   },
   "outputs": [
    {
     "name": "stdout",
     "output_type": "stream",
     "text": [
      "2021-05-10 11:51:46.004700 U01UJ9LG5U5 2 ['U01USGKQ771', 'U01V00KHHHP'] 2021-05-15 16:14:31.003600 https://github.com/danhpcv/\n",
      "2021-05-10 11:35:39.003800 U01UMC08KL2 2 ['U01UTGS5ZNY', 'U01UMC08KL2'] 2021-05-18 15:09:59.000800 https://github.com/auslynnguyen/\n",
      "2021-05-08 13:31:59.005200 U01UMJ36QD9 1 ['U01UMBX2X18'] 2021-05-08 13:36:43.006000 https://github.com/auslynnguyen/\n"
     ]
    }
   ],
   "source": [
    "## Summarize all submitted assignments + reviews cnt\n",
    "not_learners_id = ['U01BE2PR6LU'] # -> Remove MA from the user_id\n",
    "github, reply_count, reply_users_count, reply_users, latest_reply = '','','','',''\n",
    "for i in range(20):\n",
    "    ts = dt.fromtimestamp(float(msg_ls[i]['ts'])) # -> Convert timestamp Epoch thành dàng dễ đọc\n",
    "    user = msg_ls[i]['user'] # -> Lấy thông tin người post messages\n",
    "    if msg_ls[i]['user'] not in not_learners_id:\n",
    "        if 'attachments' in msg_ls[i].keys():\n",
    "            #print(msg_ls[i].keys())\n",
    "            text = msg_ls[i]['text']\n",
    "            github_link = re.findall('(?:https?://)?(?:www[.])?github[.]com/[\\w-]+/?', text) #-> Submission là các message có link github\n",
    "            #print(msg_ls[i])\n",
    "            if len(github_link) > 0: github = github_link[0]\n",
    "            if 'reply_count' in msg_ls[i].keys(): reply_count = msg_ls[i]['reply_count'] #-> Extract số review\n",
    "            if 'reply_users_count' in msg_ls[i].keys(): reply_users_count = msg_ls[i]['reply_users_count']\n",
    "            if 'reply_users' in msg_ls[i].keys(): reply_users = msg_ls[i]['reply_users']\n",
    "            if 'latest_reply' in msg_ls[i].keys(): latest_reply = dt.fromtimestamp(float(msg_ls[i]['latest_reply']))\n",
    "            print(ts, user, reply_users_count, reply_users, latest_reply, github)"
   ]
  },
  {
   "cell_type": "markdown",
   "metadata": {
    "id": "SgSC21qO3kKA"
   },
   "source": [
    "### TODO#4\n",
    "* Tạo thành 1 bảng chứa các thông tin trên và update lên Spreadsheet (Sheet: Assignment#2 Submission)"
   ]
  },
  {
   "cell_type": "code",
   "execution_count": 140,
   "metadata": {},
   "outputs": [],
   "source": [
    "# Get data from channel #atom-assignment2\n",
    "endpoint = \"https://slack.com/api/conversations.history\"\n",
    "data = {\"channel\": \"C021FSDN7LJ\"} ## This is ID of assignment#2 channel\n",
    "headers = {\"Authorization\": \"Bearer {}\".format(os.environ['SLACK_BEARER_TOKEN'])}\n",
    "\n",
    "response_json = requests.post(endpoint, data=data, headers=headers).json()\n",
    "msg_ls = response_json['messages']\n",
    "\n",
    "## Summarize all submitted assignments + reviews cnt\n",
    "not_learners_id = ['U01BE2PR6LU'] # -> Remove MA from the user_id\n",
    "github, reply_count, reply_users_count, reply_users, latest_reply = '','','','',''\n",
    "user_dict2 = {'ts':[], 'user':[], 'reply_users_count':[],'reply_users':[],'latest_reply':[],'github':[]}\n",
    "for i in range(len(msg_ls)):\n",
    "    ts = dt.fromtimestamp(float(msg_ls[i]['ts'])) # -> Convert timestamp Epoch thành dàng dễ đọc\n",
    "    user = msg_ls[i]['user'] # -> Lấy thông tin người post messages\n",
    "    if msg_ls[i]['user'] not in not_learners_id:\n",
    "        if 'attachments' in msg_ls[i].keys():\n",
    "            #print(msg_ls[i].keys())\n",
    "            text = msg_ls[i]['text']\n",
    "            github_link = re.findall('(?:https?://)?(?:www[.])?github[.]com/[\\w-]+/?', text) #-> Submission là các message có link github\n",
    "            #print(msg_ls[i])\n",
    "            if len(github_link) > 0: github = github_link[0]\n",
    "            if 'reply_count' in msg_ls[i].keys(): reply_count = msg_ls[i]['reply_count'] #-> Extract số review\n",
    "            if 'reply_users_count' in msg_ls[i].keys(): reply_users_count = msg_ls[i]['reply_users_count']\n",
    "            if 'reply_users' in msg_ls[i].keys(): reply_users = msg_ls[i]['reply_users']\n",
    "            if 'latest_reply' in msg_ls[i].keys(): latest_reply = dt.fromtimestamp(float(msg_ls[i]['latest_reply']))\n",
    "            #print(ts, user, reply_users_count, reply_users, latest_reply, github)\n",
    "            # Write data to a dict\n",
    "            user_dict2['ts'].append(ts)\n",
    "            user_dict2['user'].append(user)\n",
    "            user_dict2['reply_users_count'].append(reply_users_count)\n",
    "            user_dict2['reply_users'].append(reply_users)\n",
    "            user_dict2['latest_reply'].append(latest_reply)\n",
    "            user_dict2['github'].append(github)\n",
    "\n",
    "user_df = pd.DataFrame(user_dict2) ## Dùng pandas để convert dictionaries thành bảng\n",
    "\n",
    "# ACCESS GOOGLE SHEET\n",
    "spreadsheet_key = '1xcCPh5YOct6-cMZwTdV9KkMQitqSwe6l2P2w3ZSlR0M' # input SPREADSHEET_KEY HERE\n",
    "sh = gc.open_by_key(spreadsheet_key)\n",
    "worksheet = sh.get_worksheet(1) #-> 0 - first sheet, 1 - second sheet etc. \n",
    "\n",
    "# APPEND DATA TO SHEET\n",
    "set_with_dataframe(worksheet, user_df) #-> Upload user_df vào Sheet đầu tiên trong Spreadsheet\n"
   ]
  },
  {
   "cell_type": "markdown",
   "metadata": {
    "id": "698exK3k35RM"
   },
   "source": [
    "-------------- HẾT PHẦN OPTION 2 ---------------------"
   ]
  }
 ],
 "metadata": {
  "colab": {
   "collapsed_sections": [],
   "name": "Slack-Data.ipynb",
   "provenance": []
  },
  "kernelspec": {
   "display_name": "Python 3",
   "language": "python",
   "name": "python3"
  },
  "language_info": {
   "codemirror_mode": {
    "name": "ipython",
    "version": 3
   },
   "file_extension": ".py",
   "mimetype": "text/x-python",
   "name": "python",
   "nbconvert_exporter": "python",
   "pygments_lexer": "ipython3",
   "version": "3.8.8"
  }
 },
 "nbformat": 4,
 "nbformat_minor": 1
}
