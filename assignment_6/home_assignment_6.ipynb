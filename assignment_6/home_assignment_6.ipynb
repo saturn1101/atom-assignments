{
 "cells": [
  {
   "cell_type": "markdown",
   "metadata": {
    "id": "sQ8jh5aiy8zo"
   },
   "source": [
    "# HOME ASSIGNMENT #6: CLOUD FUNCTION & STREAMLIT\n",
    "\n",
    "**Mục đích của bài Assignment**\n",
    "> *  [Optional] Data Deploy Cloud Function \n",
    "> *  Tạo Data Apps với Streamlit\n",
    "> *  Thao tác với data bằng Pandas\n",
    "> *  Data Visualization\n",
    "\n",
    "**Các kiến thức áp dụng**\n",
    "* Slack API, JSON to DataFrame\n",
    "* GCP Cloud Function\n",
    "* Streamlit\n",
    "* Python Pandas\n",
    "* Python Data Visualization\n",
    "\n",
    "**Lời Khuyên**\n",
    "* Các bạn dành thời gian ôn lại và xâu chuỗi kiến thức\n",
    "* Review Assignment 1-5 cho ít nhất 2 bạn học viên khác"
   ]
  },
  {
   "cell_type": "code",
   "execution_count": 8,
   "metadata": {},
   "outputs": [
    {
     "name": "stdout",
     "output_type": "stream",
     "text": [
      "LICENSE            \u001b[34massignment_3\u001b[m\u001b[m       \u001b[34massignment_6\u001b[m\u001b[m       \u001b[34mimg\u001b[m\u001b[m\n",
      "README.md          \u001b[34massignment_4\u001b[m\u001b[m       \u001b[34mdata\u001b[m\u001b[m               \u001b[34mpython-for-data\u001b[m\u001b[m\n",
      "\u001b[34massignment_2\u001b[m\u001b[m       \u001b[34massignment_5\u001b[m\u001b[m       \u001b[34mgcp-cloud-function\u001b[m\u001b[m \u001b[34mstreamlit\u001b[m\u001b[m\n"
     ]
    }
   ],
   "source": [
    "!ls .."
   ]
  },
  {
   "cell_type": "markdown",
   "metadata": {},
   "source": [
    "# TODO 1: Python Data Viz\n",
    "Hoàn tất các sets bài tập trên [Kaggle Data Visualization](https://www.kaggle.com/learn/data-visualization) - Nếu chưa hoàn thành trong [Assignment 5](https://github.com/anhdanggit/atom-assignments/blob/main/assignment_5/home_assignment_5.ipynb)"
   ]
  },
  {
   "cell_type": "code",
   "execution_count": 9,
   "metadata": {},
   "outputs": [],
   "source": [
    "## Completed in Assignment 5: https://github.com/saturn1101/atom-assignments/tree/phuong-assignments/assignment_5"
   ]
  },
  {
   "cell_type": "markdown",
   "metadata": {
    "id": "t28PUQoNzy1k"
   },
   "source": [
    "# TODO 2 (OPTIONAL): DEPLOY GOOGLE CLOUD FUNCTION\n",
    "* Làm theo Lab của Week 6: [HERE](https://anhdang.gitbook.io/datacracy/atom/6-cloud-function-and-streamlit/6.2-lab-cloud-function-hands-on)\n",
    "* Click đôi vào các tab Markdown bên dưới để trả lời các câu hỏi ([Markdown Cheatsheet](https://guides.github.com/features/mastering-markdown/))"
   ]
  },
  {
   "cell_type": "markdown",
   "metadata": {},
   "source": [
    "## Screenshot Cloud Function on GCP\n",
    "> *Copy Screenshot vào folder img trong repo, và đổi link bên dưới*\n",
    "\n",
    "![Cloud Function Deployed](../img/deploy_cloud_function.png)"
   ]
  },
  {
   "cell_type": "markdown",
   "metadata": {},
   "source": [
    "## Screenshot Cloud Function Testing on GCP\n",
    "> *Copy Screenshot vào folder img trong repo, và đổi link bên dưới*\n",
    "\n",
    "![Cloud Function Testing](../img/test_cloud_function.png)"
   ]
  },
  {
   "cell_type": "markdown",
   "metadata": {
    "id": "2QUVZlLm00PG"
   },
   "source": [
    "## Screenshot Cloud Function Call on Postman\n",
    "> *Copy Screenshot vào folder img trong repo, và đổi link bên dưới*\n",
    "\n",
    "![\bCloud Function on Postman](../img/postman_cloud_function.png)"
   ]
  },
  {
   "cell_type": "markdown",
   "metadata": {
    "id": "u5c_Lx9MyzSF"
   },
   "source": [
    "## Các lỗi gặp trong quá trình thực hiện \n",
    "*Liên kê bên dưới các lỗi bạn gặp và các giải quyết*\n",
    "\n",
    "1. **ERROR: <class 'smtplib.SMTPAuthenticationError'>** ==> Mình quên mất là mình đã remove app password nên vẫn xài password cũ nên bị báo lỗi. Sau đó mình generate lại app password mới và thay vào biến môi trường rồi deploy lại"
   ]
  },
  {
   "cell_type": "markdown",
   "metadata": {
    "id": "bT_ziqVJ1COI"
   },
   "source": [
    "# TODO 3: HIỂU & DIAGRAM CODE STREAMLIT \n",
    "Mình thường khuyên các bạn mới học code rằng:\n",
    "\n",
    "> Hãy code với một cây bút chì và tờ giấy\n",
    "\n",
    "Như thế nào?\n",
    "\n",
    "1. Đầu tiên, là hình dung trong đầu: Bạn sẽ bắt đầu từ gì (`inputs`) và cho ra những gì (`output`)\n",
    "2. Rồi, để đi từ inputs đến outputs thì bạn cần thực hiện những bước nào (các `functions`)\n",
    "\n",
    "Bạn có thể vẽ ra một diagram như vậy giúp bạn:\n",
    "* Nhìn bức tranh lớn, và không bị sa đà vào tiểu tiết, syntax\n",
    "* Rõ ràng hơn về flow \n",
    "* Giúp bạn tối ưu flow trước, rồi sau đó code sẽ thuận lợi hơn\n",
    "* Rất hiệu quả để bạn debugs trong tương lai\n",
    "\n",
    "Tham khảo Diagram sau của [streamlit/data_glimpse.py](https://github.com/anhdanggit/atom-assignments/blob/main/streamlit/data_glimpse.py) và vẽ diagram theo cách hiểu của bạn cho [streamlit/datacracy_slack.py](https://github.com/anhdanggit/atom-assignments/blob/main/streamlit/datacracy_slack.py)"
   ]
  },
  {
   "cell_type": "markdown",
   "metadata": {},
   "source": [
    "## Diagram Data Glimpse Apps\n",
    "> Bên dưới là ví dụ Diagram của app [streamlit/data_glimpse.py](https://github.com/anhdanggit/atom-assignments/blob/main/streamlit/data_glimpse.py)\n",
    "\n",
    "![data-glimpse-diagream](../img/streamlit-Data-Glimpse-Diagram.png)"
   ]
  },
  {
   "cell_type": "markdown",
   "metadata": {},
   "source": [
    "## DataCracy Slack \n",
    "> Là apps để tổng hợp lịch sử nộp bài, review và discussion của Datacracy Learners\n",
    "![Datacracy-slack-streamlit](../img/dataCracy-slack-streamlit.png)"
   ]
  },
  {
   "cell_type": "markdown",
   "metadata": {},
   "source": [
    "## Diagram DataCracy Slack Apps\n",
    "* Xem code của app [streamlit/datacracy_slack.py](https://github.com/anhdanggit/atom-assignments/blob/main/streamlit/datacracy_slack.py)\n",
    "> *Copy Diagram bạn vẽ vào folder img trong repo, và đổi link bên dưới*\n",
    "\n",
    "![datacracy-slack-diagram](../img/datacracy_diagram.png)"
   ]
  },
  {
   "cell_type": "markdown",
   "metadata": {},
   "source": [
    "## Giải thích \n",
    "Xem code của app [streamlit/datacracy_slack.py](https://github.com/anhdanggit/atom-assignments/blob/main/streamlit/datacracy_slack.py):\n",
    "\n",
    "1. Trong mỗi function (steps) trong Diagram của bạn, giải thích function làm những việc gì?\n",
    "2. Liệt kê các logics được áp dụng để xử lý data?"
   ]
  },
  {
   "cell_type": "code",
   "execution_count": 10,
   "metadata": {},
   "outputs": [],
   "source": [
    "## YOUR ANSWER\n",
    "\n",
    "## 1.\n",
    "\n",
    "## load_users_df(), load_channel_df(), load_msg_df(): \n",
    "# Lấy data từ Slack về, viết data cần thiết vào 1 dictionary sau đó chuyển thành dataframe\n",
    "\n",
    "## process_msg_data():\n",
    "# Xử lý các dataframes có sẵn để trả về msg_df hoàn thiện hơn: Extract những users đã reply trong 1 post, \n",
    "# merge các dataframes và đổi lại tên cho phù hợp, format lại các cột ngày tháng, thời gian, thêm cột tính số chữ\n",
    "\n",
    "## 2. \n",
    "# 1 - Thay đổi tên các cột cho phù hợp cho phù hợp với hoàn cảnh của app\n",
    "# 2 - Thống nhất lại format của các datetime data cho dễ nhìn và thân thiện với người dùng\n",
    "# 3 - Valid user ids là những user_id nằm trong cột user_id của dataframe user_df\n",
    "# 4 - Reviews hợp lệ là reviews nằm trong channel có tên chứa 'assignment' và Datacracy_role có chứa 'Learner'\n",
    "# loại ra những reply của user_id được cho trong input\n",
    "# 5 - Ở phần Sidebar, Đã Nộp được tính bằng chiều dài (số rows) của submit_df, viết dưới format số thập phân 2 chữ số\n",
    "# 6 - Ở Sidebar, số review được nhận được tính theo %, là số rows của submit_df thoả mãn số replies từ người khác lớn hơn 0 chia cho tổng số rows của submit_df\n",
    "# 7 - Ở Sidebar, số review đã viết chính là số rows của review_df"
   ]
  },
  {
   "cell_type": "markdown",
   "metadata": {},
   "source": [
    "# TODO 4: VISUALIZATION ON STREAMLIT\n",
    "Áp dụng kiến thức đã học trong *TODO 1* + Pandas thực hiện các tasks sau:\n",
    "\n",
    "1. Tổng hợp cho tất cả learners các chỉ số sau: \n",
    "    * Số assignment đã nộp\n",
    "    * % bài được review \n",
    "    * Số workcount đã thảo luận \n",
    "    * Extract thứ trong tuần (weekday) của ngày nộp bài \n",
    "    * Extract giờ trong ngày nộp bài (hour)\n",
    "    \n",
    "4. Vẽ biểu đồ thể hiện phân phối (Distribution - [Kaggle Tutorial](https://www.kaggle.com/alexisbcook/distributions)) của các thông số trên và add vào app Streamlit"
   ]
  },
  {
   "cell_type": "code",
   "execution_count": 1,
   "metadata": {},
   "outputs": [],
   "source": [
    "# To-do 4 Submission: https://github.com/saturn1101/atom-assignments/blob/phuong-assignments/streamlit/datacracy_slack.py"
   ]
  }
 ],
 "metadata": {
  "colab": {
   "name": "home_assignment_5.ipynb",
   "provenance": [],
   "toc_visible": true
  },
  "kernelspec": {
   "name": "python388jvsc74a57bd0dca0ade3e726a953b501b15e8e990130d2b7799f14cfd9f4271676035ebe5511",
   "display_name": "Python 3.8.8 64-bit ('base': conda)"
  },
  "language_info": {
   "codemirror_mode": {
    "name": "ipython",
    "version": 3
   },
   "file_extension": ".py",
   "mimetype": "text/x-python",
   "name": "python",
   "nbconvert_exporter": "python",
   "pygments_lexer": "ipython3",
   "version": "3.8.8"
  }
 },
 "nbformat": 4,
 "nbformat_minor": 1
}